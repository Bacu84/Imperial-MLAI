{
 "cells": [
  {
   "cell_type": "markdown",
   "id": "416552f4-7b9f-4889-b028-5a3cc2387dc2",
   "metadata": {},
   "source": [
    "FUNCTION 1: This may sound simple because you only have a two-dimensional input, however it is a very difficult problem. It corresponds to trying to find the source of radiation in some square area. However, you can only detect the radiation once you are very close to it, meaning most of the readings will be zero. There are two sources, one is not too dangerous, so make sure you try to find both modes of the function."
   ]
  },
  {
   "cell_type": "code",
   "execution_count": 2,
   "id": "7bdac7de-94a1-4eda-a753-0ebc35d5cce9",
   "metadata": {},
   "outputs": [
    {
     "ename": "NameError",
     "evalue": "name 'X_new' is not defined",
     "output_type": "error",
     "traceback": [
      "\u001b[1;31m---------------------------------------------------------------------------\u001b[0m",
      "\u001b[1;31mNameError\u001b[0m                                 Traceback (most recent call last)",
      "Cell \u001b[1;32mIn[2], line 12\u001b[0m\n\u001b[0;32m      8\u001b[0m new_input \u001b[38;5;241m=\u001b[39m np\u001b[38;5;241m.\u001b[39marray([[\u001b[38;5;241m0.648073\u001b[39m, \u001b[38;5;241m0.683567\u001b[39m], [\u001b[38;5;241m0.000000\u001b[39m, \u001b[38;5;241m0.999999\u001b[39m], [\u001b[38;5;241m0.999999\u001b[39m, \u001b[38;5;241m0.999999\u001b[39m], [\u001b[38;5;241m0.000000\u001b[39m, \u001b[38;5;241m0.707071\u001b[39m], [\u001b[38;5;241m0.999999\u001b[39m, \u001b[38;5;241m0.000000\u001b[39m], \n\u001b[0;32m      9\u001b[0m                       [\u001b[38;5;241m0.717172\u001b[39m, \u001b[38;5;241m0.000000\u001b[39m], [\u001b[38;5;241m0.\u001b[39m      , \u001b[38;5;241m0.040404\u001b[39m], [\u001b[38;5;241m0.999999\u001b[39m, \u001b[38;5;241m0.818182\u001b[39m],[\u001b[38;5;241m0.888889\u001b[39m, \u001b[38;5;241m0.040404\u001b[39m]])\n\u001b[0;32m     11\u001b[0m X \u001b[38;5;241m=\u001b[39m np\u001b[38;5;241m.\u001b[39mvstack((X, new_input))\n\u001b[1;32m---> 12\u001b[0m X \u001b[38;5;241m=\u001b[39m np\u001b[38;5;241m.\u001b[39mvstack((X, X_new))\n\u001b[0;32m     13\u001b[0m new_output \u001b[38;5;241m=\u001b[39m np\u001b[38;5;241m.\u001b[39marray([[\u001b[38;5;241m-\u001b[39m\u001b[38;5;241m0.003576\u001b[39m], [\u001b[38;5;241m0.000000\u001b[39m], [\u001b[38;5;241m0.0000000\u001b[39m], [\u001b[38;5;241m0.0000000\u001b[39m], [\u001b[38;5;241m0.0000000\u001b[39m], [\u001b[38;5;241m0.0000000\u001b[39m],[\u001b[38;5;241m0.0000000\u001b[39m], [\u001b[38;5;241m0.0000000\u001b[39m], [\u001b[38;5;241m0.0000000\u001b[39m]])\n\u001b[0;32m     14\u001b[0m Y \u001b[38;5;241m=\u001b[39m np\u001b[38;5;241m.\u001b[39mvstack((Y\u001b[38;5;241m.\u001b[39mreshape(\u001b[38;5;241m-\u001b[39m\u001b[38;5;241m1\u001b[39m,\u001b[38;5;241m1\u001b[39m), new_output\u001b[38;5;241m.\u001b[39mreshape(\u001b[38;5;241m-\u001b[39m\u001b[38;5;241m1\u001b[39m,\u001b[38;5;241m1\u001b[39m)))\n",
      "\u001b[1;31mNameError\u001b[0m: name 'X_new' is not defined"
     ]
    }
   ],
   "source": [
    "import numpy as np\n",
    "import pandas as pd\n",
    "import matplotlib.pyplot as plt\n",
    "from sklearn.gaussian_process import GaussianProcessRegressor\n",
    "\n",
    "X = np.load(r'C:\\Users\\stefa\\Downloads\\Python Assignment\\initial_inputs.npy')\n",
    "Y = np.load(r'C:\\Users\\stefa\\Downloads\\Python Assignment\\initial_outputs.npy')\n",
    "new_input = np.array([[0.648073, 0.683567], [0.000000, 0.999999], [0.999999, 0.999999], [0.000000, 0.707071], [0.999999, 0.000000], \n",
    "                      [0.717172, 0.000000], [0.      , 0.040404], [0.999999, 0.818182],[0.888889, 0.040404]])\n",
    "\n",
    "X = np.vstack((X, new_input))\n",
    "X = np.vstack((X, X_new))\n",
    "new_output = np.array([[-0.003576], [0.000000], [0.0000000], [0.0000000], [0.0000000], [0.0000000],[0.0000000], [0.0000000], [0.0000000]])\n",
    "Y = np.vstack((Y.reshape(-1,1), new_output.reshape(-1,1)))\n",
    "Y = np.vstack((Y.reshape(-1,1), Y_new.reshape(-1,1)))"
   ]
  },
  {
   "cell_type": "code",
   "execution_count": null,
   "id": "5b3af3f2-c409-4c17-ade8-f8b9087ba6d5",
   "metadata": {},
   "outputs": [],
   "source": [
    "new_input1 = np.array([[0.787879, 0.999999], [0.999999, 0.121212], [0.     , 0.89899], [0.888889, 0.040404], [0.323232, 0.999999]])\n",
    "X = np.vstack((X, new_input1))\n",
    "new_output1 = np.array([[0.0000000], [0.0000000], [0.0000000], [0.0000000], [0.0000000]])\n",
    "Y = np.vstack((Y.reshape(-1,1), new_output1.reshape(-1,1)))"
   ]
  }
 ],
 "metadata": {
  "kernelspec": {
   "display_name": "Python 3 (ipykernel)",
   "language": "python",
   "name": "python3"
  },
  "language_info": {
   "codemirror_mode": {
    "name": "ipython",
    "version": 3
   },
   "file_extension": ".py",
   "mimetype": "text/x-python",
   "name": "python",
   "nbconvert_exporter": "python",
   "pygments_lexer": "ipython3",
   "version": "3.12.4"
  }
 },
 "nbformat": 4,
 "nbformat_minor": 5
}
